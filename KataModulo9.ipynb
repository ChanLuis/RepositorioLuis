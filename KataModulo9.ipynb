{
 "cells": [
  {
   "cell_type": "code",
   "execution_count": 2,
   "metadata": {},
   "outputs": [
    {
     "name": "stdout",
     "output_type": "stream",
     "text": [
      "payload, propellant, structure\n"
     ]
    }
   ],
   "source": [
    "def rocket_parts():\n",
    "    print('payload, propellant, structure')\n",
    "\n",
    "rocket_parts()"
   ]
  },
  {
   "cell_type": "code",
   "execution_count": 4,
   "metadata": {},
   "outputs": [
    {
     "data": {
      "text/plain": [
       "False"
      ]
     },
     "execution_count": 4,
     "metadata": {},
     "output_type": "execute_result"
    }
   ],
   "source": [
    "any([True, False, False])\n",
    "\n",
    "any([False, False, False])"
   ]
  },
  {
   "cell_type": "code",
   "execution_count": 10,
   "metadata": {},
   "outputs": [
    {
     "data": {
      "text/plain": [
       "'Unable to compute to that destination'"
      ]
     },
     "execution_count": 10,
     "metadata": {},
     "output_type": "execute_result"
    }
   ],
   "source": [
    "def distance_fromearth(destination):\n",
    "    if destination == 'Moon':\n",
    "        return '238,855'\n",
    "    else:\n",
    "        return 'Unable to compute to that destination'\n",
    "\n",
    "distance_fromearth('Saturn')"
   ]
  },
  {
   "cell_type": "code",
   "execution_count": 13,
   "metadata": {},
   "outputs": [
    {
     "data": {
      "text/plain": [
       "133"
      ]
     },
     "execution_count": 13,
     "metadata": {},
     "output_type": "execute_result"
    }
   ],
   "source": [
    "def days_to_complete(distance, speed):\n",
    "    hours = distance/speed\n",
    "    return hours/24\n",
    "\n",
    "round(days_to_complete(238855, 75))"
   ]
  },
  {
   "cell_type": "code",
   "execution_count": 19,
   "metadata": {},
   "outputs": [
    {
     "data": {
      "text/plain": [
       "'Arrival: Sunday 20:25'"
      ]
     },
     "execution_count": 19,
     "metadata": {},
     "output_type": "execute_result"
    }
   ],
   "source": [
    "from datetime import timedelta, datetime\n",
    "\n",
    "def arrival_time(destination, hours=51):\n",
    "    now = datetime.now()\n",
    "    arrival = now + timedelta(hours=hours)\n",
    "    return arrival.strftime('Arrival: %A %H:%M')\n",
    "\n",
    "arrival_time('Orbit', hours=0.13)"
   ]
  },
  {
   "cell_type": "code",
   "execution_count": 22,
   "metadata": {},
   "outputs": [
    {
     "name": "stdout",
     "output_type": "stream",
     "text": [
      "('one', 'two')\n"
     ]
    }
   ],
   "source": [
    "def variable_lenghth(*args):\n",
    "    print(args)\n",
    "\n",
    "variable_lenghth('one', 'two')"
   ]
  },
  {
   "cell_type": "code",
   "execution_count": 25,
   "metadata": {},
   "outputs": [
    {
     "data": {
      "text/plain": [
       "'Total time to launch is 66 minutes'"
      ]
     },
     "execution_count": 25,
     "metadata": {},
     "output_type": "execute_result"
    }
   ],
   "source": [
    "def sequence_time(*args):\n",
    "    total_minutes = sum(args)\n",
    "    if total_minutes < 60:\n",
    "        return f'Total time to launch is {total_minutes} minutes'\n",
    "    else:\n",
    "        return f'Total time to launch is {total_minutes} minutes'\n",
    "\n",
    "sequence_time(4, 14, 48)"
   ]
  },
  {
   "cell_type": "code",
   "execution_count": 26,
   "metadata": {},
   "outputs": [
    {
     "name": "stdout",
     "output_type": "stream",
     "text": [
      "{'tanks': 1, 'day': 'Wednesday', 'pilots': 3}\n"
     ]
    }
   ],
   "source": [
    "def variable_lenghth(**kwargs):\n",
    "    print(kwargs)\n",
    "\n",
    "variable_lenghth(tanks=1, day='Wednesday', pilots=3)\n"
   ]
  },
  {
   "cell_type": "code",
   "execution_count": 27,
   "metadata": {},
   "outputs": [
    {
     "name": "stdout",
     "output_type": "stream",
     "text": [
      "3 astronauts assigned for this mission:\n",
      "captain: neil armstrong\n",
      "pilot: Buzz Aldrin\n",
      "command_pilot: Michael Collins\n"
     ]
    }
   ],
   "source": [
    "def crew_members(**kwargs):\n",
    "    print(f'{len(kwargs)} astronauts assigned for this mission:')\n",
    "    for tittle, name in kwargs.items():\n",
    "        print(f'{tittle}: {name}')\n",
    "        \n",
    "crew_members(captain='neil armstrong', pilot='Buzz Aldrin', command_pilot='Michael Collins')\n"
   ]
  },
  {
   "cell_type": "markdown",
   "metadata": {},
   "source": [
    "# Ejercicio 1: Trabajar con argumentos en funciones"
   ]
  },
  {
   "cell_type": "code",
   "execution_count": 28,
   "metadata": {},
   "outputs": [
    {
     "name": "stdout",
     "output_type": "stream",
     "text": [
      "Fuel Report:\n",
      "    Total Average: 78.33333333333333%\n",
      "    Main tank: 80%\n",
      "    External tank: 70%\n",
      "    Hydrogen tank: 85% \n",
      "    \n",
      "Fuel Report:\n",
      "    Total Average: 78.0%\n",
      "    Main tank: 88%\n",
      "    External tank: 76%\n",
      "    Hydrogen tank: 70% \n",
      "    \n"
     ]
    }
   ],
   "source": [
    "def generate_report(main_tank, external_tank, hydrogen_tank):\n",
    "    total_average = (main_tank + external_tank + hydrogen_tank) / 3\n",
    "    return f\"\"\"Fuel Report:\n",
    "    Total Average: {total_average}%\n",
    "    Main tank: {main_tank}%\n",
    "    External tank: {external_tank}%\n",
    "    Hydrogen tank: {hydrogen_tank}% \n",
    "    \"\"\"\n",
    "\n",
    "print(generate_report(80, 70, 85))\n",
    "\n",
    "def average(values):\n",
    "    total = sum(values)\n",
    "    number_of_items = len(values)\n",
    "    return total / number_of_items\n",
    "\n",
    "average([80, 85, 81]) \n",
    "\n",
    "def generate_report(main_tank, external_tank, hydrogen_tank):\n",
    "    return f\"\"\"Fuel Report:\n",
    "    Total Average: {average([main_tank, external_tank, hydrogen_tank])}%\n",
    "    Main tank: {main_tank}%\n",
    "    External tank: {external_tank}%\n",
    "    Hydrogen tank: {hydrogen_tank}% \n",
    "    \"\"\"\n",
    "print(generate_report(88, 76, 70))"
   ]
  },
  {
   "cell_type": "markdown",
   "metadata": {},
   "source": [
    "# Ejercicio 2"
   ]
  },
  {
   "cell_type": "code",
   "execution_count": 29,
   "metadata": {},
   "outputs": [
    {
     "name": "stdout",
     "output_type": "stream",
     "text": [
      "\n",
      "    Mission to Moon\n",
      "    Total travel time: 65 minutes\n",
      "    Total fuel left: 500000 gallons\n",
      "    \n",
      "\n",
      "    Mission to Moon\n",
      "    Total travel time: 76 minutes\n",
      "    Total fuel left: 500000\n",
      "    \n",
      "\n",
      "    Mission to Moon\n",
      "    Total travel time: 74 minutes\n",
      "    Total fuel left: 500000\n",
      "    main tank --> 300000 gallons left\n",
      "external tank --> 200000 gallons left\n",
      "\n"
     ]
    }
   ],
   "source": [
    "def mission_report(pre_launch_time, flight_time, destination, external_tank, main_tank):\n",
    "    return f\"\"\"\n",
    "    Mission to {destination}\n",
    "    Total travel time: {pre_launch_time + flight_time} minutes\n",
    "    Total fuel left: {external_tank + main_tank} gallons\n",
    "    \"\"\"\n",
    "\n",
    "print(mission_report(14, 51, \"Moon\", 200000, 300000))\n",
    "\n",
    "def mission_report(destination, *minutes, **fuel_reservoirs):\n",
    "    return f\"\"\"\n",
    "    Mission to {destination}\n",
    "    Total travel time: {sum(minutes)} minutes\n",
    "    Total fuel left: {sum(fuel_reservoirs.values())}\n",
    "    \"\"\"\n",
    "\n",
    "print(mission_report(\"Moon\", 10, 15, 51, main=300000, external=200000))\n",
    "\n",
    "def mission_report(destination, *minutes, **fuel_reservoirs):\n",
    "    main_report = f\"\"\"\n",
    "    Mission to {destination}\n",
    "    Total travel time: {sum(minutes)} minutes\n",
    "    Total fuel left: {sum(fuel_reservoirs.values())}\n",
    "    \"\"\"\n",
    "    for tank_name, gallons in fuel_reservoirs.items():\n",
    "        main_report += f\"{tank_name} tank --> {gallons} gallons left\\n\"\n",
    "    return main_report\n",
    "\n",
    "print(mission_report(\"Moon\", 8, 11, 55, main=300000, external=200000))"
   ]
  }
 ],
 "metadata": {
  "interpreter": {
   "hash": "5797f611c8d4bc55d8791f67129562a4a3db7a31b2580ed8ebf5089c7c75c776"
  },
  "kernelspec": {
   "display_name": "Python 3.10.2 64-bit",
   "language": "python",
   "name": "python3"
  },
  "language_info": {
   "codemirror_mode": {
    "name": "ipython",
    "version": 3
   },
   "file_extension": ".py",
   "mimetype": "text/x-python",
   "name": "python",
   "nbconvert_exporter": "python",
   "pygments_lexer": "ipython3",
   "version": "3.10.2"
  },
  "orig_nbformat": 4
 },
 "nbformat": 4,
 "nbformat_minor": 2
}
