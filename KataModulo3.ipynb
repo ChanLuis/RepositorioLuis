{
 "cells": [
  {
   "cell_type": "markdown",
   "metadata": {},
   "source": [
    "# Ejercicio - Escribir declaraciones if, else, y elif"
   ]
  },
  {
   "cell_type": "code",
   "execution_count": 5,
   "metadata": {},
   "outputs": [
    {
     "name": "stdout",
     "output_type": "stream",
     "text": [
      "HUYAN PRROS!!!\n"
     ]
    }
   ],
   "source": [
    "# Un asteroide se acerca, y viaja a una velocidad de 49 km/s.\n",
    "\n",
    "asteroideV = 49\n",
    "\n",
    "if asteroideV > 25:\n",
    "    print(\"HUYAN PRROS VIENE UN ASTEROIDE!!!\")\n",
    "else:\n",
    "    print(\"No se preocupen banda\")"
   ]
  },
  {
   "cell_type": "code",
   "execution_count": 14,
   "metadata": {},
   "outputs": [
    {
     "name": "stdout",
     "output_type": "stream",
     "text": [
      "El rayo de luz no se puede ver desde la tierra\n"
     ]
    }
   ],
   "source": [
    "#Hay uno que se dirige a la tierra ahora a una velocidad de 19 km/s\n",
    "\n",
    "asteroideV = 19\n",
    "\n",
    "if asteroideV > 20:\n",
    "    print(\"Mira arriba. Hay un asteroide en el cielo\")\n",
    "elif asteroideV == 20:\n",
    "    print(\"Mira arriba. Hay un asteroide en el cielo\")\n",
    "else:\n",
    "    print(\"*No hace nada*\")"
   ]
  },
  {
   "cell_type": "markdown",
   "metadata": {},
   "source": [
    "# Ejercicio: Uso de operadores and y or"
   ]
  },
  {
   "cell_type": "code",
   "execution_count": 1,
   "metadata": {},
   "outputs": [
    {
     "name": "stdout",
     "output_type": "stream",
     "text": [
      "Aun nada\n"
     ]
    }
   ],
   "source": [
    "asteroideT = 1000\n",
    "asteroideV = 19\n",
    "\n",
    "if  asteroideV > 25 and asteroideT > 25:\n",
    "    print(\"Se acerca asteroide potencialmente peligroso, busque refugio\")\n",
    "elif asteroideV >= 20:\n",
    "    print(\"Mira arriba, un cometa\")\n",
    "elif asteroideT < 25:\n",
    "    print(\"Aun nada\")\n",
    "else:\n",
    "    print(\"Aun nada\")"
   ]
  }
 ],
 "metadata": {
  "interpreter": {
   "hash": "5797f611c8d4bc55d8791f67129562a4a3db7a31b2580ed8ebf5089c7c75c776"
  },
  "kernelspec": {
   "display_name": "Python 3.10.2 64-bit",
   "language": "python",
   "name": "python3"
  },
  "language_info": {
   "codemirror_mode": {
    "name": "ipython",
    "version": 3
   },
   "file_extension": ".py",
   "mimetype": "text/x-python",
   "name": "python",
   "nbconvert_exporter": "python",
   "pygments_lexer": "ipython3",
   "version": "3.10.2"
  },
  "orig_nbformat": 4
 },
 "nbformat": 4,
 "nbformat_minor": 2
}
